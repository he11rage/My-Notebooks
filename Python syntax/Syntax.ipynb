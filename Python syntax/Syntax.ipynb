{
 "cells": [
  {
   "cell_type": "code",
   "execution_count": null,
   "id": "600a7dab-9697-4433-84c1-fef365b31ff4",
   "metadata": {},
   "outputs": [],
   "source": [
    "# Однострочные комментарии начинаются с символа решётки.\n",
    "\n",
    "\"\"\"\n",
    "Многострочный текст может быть записан, используя 3 знака \" и обычно используется\n",
    "в качестве встроенной документации\n",
    "\"\"\""
   ]
  },
  {
   "cell_type": "markdown",
   "id": "2f4d6996-f54d-44ea-9e84-7469f1113960",
   "metadata": {},
   "source": [
    "## 1. Примитивные типы данных и операторы."
   ]
  },
  {
   "cell_type": "code",
   "execution_count": 8,
   "id": "7201d218-1dde-49ce-83e9-2ec4a12a1891",
   "metadata": {},
   "outputs": [
    {
     "data": {
      "text/plain": [
       "3"
      ]
     },
     "execution_count": 8,
     "metadata": {},
     "output_type": "execute_result"
    }
   ],
   "source": [
    "# У вас есть числа\n",
    "3 # => 3"
   ]
  },
  {
   "cell_type": "code",
   "execution_count": 25,
   "id": "45057b12-3666-422e-98e8-d4f4054c3134",
   "metadata": {},
   "outputs": [
    {
     "name": "stdout",
     "output_type": "stream",
     "text": [
      "2\n",
      "7\n",
      "20\n",
      "7.0\n"
     ]
    }
   ],
   "source": [
    "# Математика работает вполне ожидаемо\n",
    "print(1 + 1)   # => 2\n",
    "print(8 - 1)   # => 7\n",
    "print(10 * 2)  # => 20\n",
    "print(35 / 5)  # => 7.0"
   ]
  },
  {
   "cell_type": "code",
   "execution_count": 31,
   "id": "0d1fad36-b458-4823-9545-a3abd738b5a7",
   "metadata": {},
   "outputs": [
    {
     "name": "stdout",
     "output_type": "stream",
     "text": [
      "1\n",
      "-2\n",
      "1.0\n",
      "-2.0\n"
     ]
    }
   ],
   "source": [
    "# Результат целочисленного деления округляется в меньшую сторону\n",
    "# как для положительных, так и для отрицательных чисел.\n",
    "print(5 // 3)       # => 1\n",
    "print(-5 // 3)      # => -2\n",
    "print(5.0 // 3.0)   # => 1.0  # работает и для чисел с плавающей запятой\n",
    "print(-5.0 // 3.0)  # => -2.0"
   ]
  },
  {
   "cell_type": "code",
   "execution_count": 32,
   "id": "6505d14f-0714-4957-a794-5f4adb71fb73",
   "metadata": {},
   "outputs": [
    {
     "name": "stdout",
     "output_type": "stream",
     "text": [
      "3.3333333333333335\n"
     ]
    }
   ],
   "source": [
    "# Результат деления возвращает число с плавающей запятой\n",
    "print(10.0 / 3)  # => 3.3333333333333335"
   ]
  },
  {
   "cell_type": "code",
   "execution_count": 33,
   "id": "2a73d95a-04d9-4fab-9b0e-3843b699bbef",
   "metadata": {},
   "outputs": [
    {
     "name": "stdout",
     "output_type": "stream",
     "text": [
      "1\n"
     ]
    }
   ],
   "source": [
    "# Остаток от деления\n",
    "print(7 % 3)  # => 1"
   ]
  },
  {
   "cell_type": "code",
   "execution_count": 34,
   "id": "bf426311-e4ce-44b2-8590-e0a5d240cc41",
   "metadata": {},
   "outputs": [
    {
     "name": "stdout",
     "output_type": "stream",
     "text": [
      "8\n"
     ]
    }
   ],
   "source": [
    "# Возведение в степень\n",
    "print(2**3)  # => 8"
   ]
  },
  {
   "cell_type": "code",
   "execution_count": 35,
   "id": "0b7ae943-699a-4036-81d2-6b685969f9cd",
   "metadata": {},
   "outputs": [
    {
     "name": "stdout",
     "output_type": "stream",
     "text": [
      "7\n",
      "8\n"
     ]
    }
   ],
   "source": [
    "# Приоритет операций указывается скобками\n",
    "print(1 + 3 * 2)    # => 7\n",
    "print((1 + 3) * 2)  # => 8"
   ]
  },
  {
   "cell_type": "code",
   "execution_count": 39,
   "id": "7544e597-4885-4ae4-b864-9d58bfc8a7f6",
   "metadata": {},
   "outputs": [
    {
     "name": "stdout",
     "output_type": "stream",
     "text": [
      "True\n",
      "False\n"
     ]
    }
   ],
   "source": [
    "# Булевы значения - примитивы (Обратите внимание на заглавную букву)\n",
    "print(True)   # => True\n",
    "print(False)  # => False"
   ]
  },
  {
   "cell_type": "code",
   "execution_count": 38,
   "id": "f01b6280-de80-4ddb-a941-360b16bb915f",
   "metadata": {},
   "outputs": [
    {
     "name": "stdout",
     "output_type": "stream",
     "text": [
      "False\n",
      "True\n"
     ]
    }
   ],
   "source": [
    "# Для отрицания используется ключевое слово not\n",
    "print(not True)   # => False\n",
    "print(not False)  # => True"
   ]
  },
  {
   "cell_type": "code",
   "execution_count": 40,
   "id": "4b686e41-128e-45ab-aaee-29f090e861f8",
   "metadata": {},
   "outputs": [
    {
     "name": "stdout",
     "output_type": "stream",
     "text": [
      "False\n",
      "True\n"
     ]
    }
   ],
   "source": [
    "# Булевы операторы\n",
    "# Обратите внимание: ключевые слова \"and\" и \"or\" чувствительны к регистру букв\n",
    "print(True and False)  # => False\n",
    "print(False or True)   # => True"
   ]
  },
  {
   "cell_type": "code",
   "execution_count": 41,
   "id": "ca73e7d1-82cf-499a-ad8a-e2fbfaf90db0",
   "metadata": {},
   "outputs": [
    {
     "name": "stdout",
     "output_type": "stream",
     "text": [
      "2\n",
      "8\n",
      "-5\n"
     ]
    }
   ],
   "source": [
    "# True и False на самом деле 1 и 0, но с разными ключевыми словами\n",
    "print(True + True)  # => 2\n",
    "print(True * 8)     # => 8\n",
    "print(False - 5 )   # => -5"
   ]
  },
  {
   "cell_type": "code",
   "execution_count": 42,
   "id": "14d9d63b-6ea9-4f20-91ac-7e89a39dfd3b",
   "metadata": {},
   "outputs": [
    {
     "name": "stdout",
     "output_type": "stream",
     "text": [
      "True\n",
      "True\n",
      "False\n",
      "True\n"
     ]
    }
   ],
   "source": [
    "# Операторы сравнения обращают внимание на числовое значение True и False\n",
    "print(0 == False)   # => True\n",
    "print(1 == True)    # => True\n",
    "print(2 == True)    # => False\n",
    "print(-5 != False)  # => True"
   ]
  },
  {
   "cell_type": "code",
   "execution_count": 43,
   "id": "5512b670-6c05-4654-b48e-c73ea90a2f91",
   "metadata": {},
   "outputs": [
    {
     "name": "stdout",
     "output_type": "stream",
     "text": [
      "False\n",
      "True\n",
      "True\n",
      "0\n",
      "-5\n"
     ]
    }
   ],
   "source": [
    "# Использование булевых логических операторов на типах int превращает их в булевы значения, но возвращаются оригинальные значения\n",
    "# Не путайте с bool(ints) и bitwise and/or (&,|)\n",
    "print(bool(0))   # => False\n",
    "print(bool(4))   # => True\n",
    "print(bool(-6))  # => True\n",
    "print(0 and 2)   # => 0\n",
    "print(-5 or 0)   # => -5"
   ]
  },
  {
   "cell_type": "code",
   "execution_count": 44,
   "id": "eff39b95-87eb-430c-b6a8-51b2af24ff04",
   "metadata": {},
   "outputs": [
    {
     "name": "stdout",
     "output_type": "stream",
     "text": [
      "True\n",
      "False\n"
     ]
    }
   ],
   "source": [
    "# Равенство — это ==\n",
    "print(1 == 1)  # => True\n",
    "print(2 == 1)  # => False"
   ]
  },
  {
   "cell_type": "code",
   "execution_count": 45,
   "id": "0d472adb-9f10-46ef-a118-b0bd8ce84f0f",
   "metadata": {},
   "outputs": [
    {
     "name": "stdout",
     "output_type": "stream",
     "text": [
      "False\n",
      "True\n"
     ]
    }
   ],
   "source": [
    "# Неравенство — это !=\n",
    "print(1 != 1)  # => False\n",
    "print(2 != 1)  # => True"
   ]
  },
  {
   "cell_type": "code",
   "execution_count": 46,
   "id": "35466846-103c-4b08-bd02-3e9692763097",
   "metadata": {},
   "outputs": [
    {
     "name": "stdout",
     "output_type": "stream",
     "text": [
      "True\n",
      "False\n",
      "True\n",
      "True\n"
     ]
    }
   ],
   "source": [
    "# Ещё немного сравнений\n",
    "print(1 < 10)  # => True\n",
    "print(1 > 10)  # => False\n",
    "print(2 <= 2)  # => True\n",
    "print(2 >= 2)  # => True"
   ]
  },
  {
   "cell_type": "code",
   "execution_count": 47,
   "id": "06dbb4d2-604b-49f0-b7a4-4ab36b04426e",
   "metadata": {},
   "outputs": [
    {
     "name": "stdout",
     "output_type": "stream",
     "text": [
      "True\n",
      "False\n"
     ]
    }
   ],
   "source": [
    "# Проверка, находится ли значение в диапазоне\n",
    "print(1 < 2 and 2 < 3)  # => True\n",
    "print(2 < 3 and 3 < 2)  # => False"
   ]
  },
  {
   "cell_type": "code",
   "execution_count": 48,
   "id": "5e62a7db-cc71-45a3-8280-0d0ec96caf36",
   "metadata": {},
   "outputs": [
    {
     "name": "stdout",
     "output_type": "stream",
     "text": [
      "True\n",
      "False\n"
     ]
    }
   ],
   "source": [
    "# Сравнения могут быть записаны цепочкой\n",
    "print(1 < 2 < 3)  # => True\n",
    "print(2 < 3 < 2)  # => False"
   ]
  },
  {
   "cell_type": "code",
   "execution_count": 50,
   "id": "eb2e40d4-c3fc-40d9-be3e-572c10e5bed3",
   "metadata": {},
   "outputs": [
    {
     "name": "stdout",
     "output_type": "stream",
     "text": [
      "True\n",
      "True\n",
      "False\n",
      "True\n"
     ]
    }
   ],
   "source": [
    "# (is vs. ==) ключевое слово is проверяет, относятся ли две переменные к одному и тому же объекту, но == проверяет если указанные объекты имеют одинаковые значения.\n",
    "a = [1, 2, 3, 4]  # a указывает на новый список, [1, 2, 3, 4]\n",
    "b = a             # b указывает на то, что указывает a\n",
    "print(b is a)     # => True, a и b относятся к одному и тому же объекту\n",
    "print(b == a)     # => True, Объекты a и b равны\n",
    "b = [1, 2, 3, 4]  # b указывает на новый список, [1, 2, 3, 4]\n",
    "print(b is a)     # => False, a и b не относятся к одному и тому же объекту\n",
    "print(b == a)     # => True, Объекты a и b равны"
   ]
  },
  {
   "cell_type": "code",
   "execution_count": 52,
   "id": "2add31ef-4ee8-41dc-bc0a-963b9fd13a16",
   "metadata": {},
   "outputs": [
    {
     "name": "stdout",
     "output_type": "stream",
     "text": [
      "Это строка.\n",
      "Это тоже строка.\n"
     ]
    }
   ],
   "source": [
    "# Строки определяются символом \" или '\n",
    "print(\"Это строка.\")\n",
    "print('Это тоже строка.')"
   ]
  },
  {
   "cell_type": "code",
   "execution_count": 53,
   "id": "451389cb-9c50-4083-b4cf-857ecff4356b",
   "metadata": {},
   "outputs": [
    {
     "name": "stdout",
     "output_type": "stream",
     "text": [
      "Привет мир!\n"
     ]
    }
   ],
   "source": [
    "# И строки тоже могут складываться!\n",
    "print(\"Привет \" + \"мир!\")  # => \"Привет мир!\""
   ]
  },
  {
   "cell_type": "code",
   "execution_count": 54,
   "id": "673f1b92-a126-4c0a-933a-7091db4e8438",
   "metadata": {},
   "outputs": [
    {
     "name": "stdout",
     "output_type": "stream",
     "text": [
      "Привет мир!\n"
     ]
    }
   ],
   "source": [
    "# Строки (но не переменные) могут быть объединены без использования '+'\n",
    "print(\"Привет \" \"мир!\")  # => \"Привет мир!\""
   ]
  },
  {
   "cell_type": "code",
   "execution_count": 55,
   "id": "13655eaa-a469-4dbe-a839-90851a38c089",
   "metadata": {},
   "outputs": [
    {
     "name": "stdout",
     "output_type": "stream",
     "text": [
      "П\n"
     ]
    }
   ],
   "source": [
    "# Со строкой можно работать, как со списком символов\n",
    "print(\"Привет мир!\"[0])  # => 'П'"
   ]
  },
  {
   "cell_type": "code",
   "execution_count": 56,
   "id": "181f23f5-1334-426a-a6b1-a497dc0cb004",
   "metadata": {},
   "outputs": [
    {
     "name": "stdout",
     "output_type": "stream",
     "text": [
      "10\n"
     ]
    }
   ],
   "source": [
    "# Вы можете найти длину строки\n",
    "print(len(\"Это строка\"))  # => 10"
   ]
  },
  {
   "cell_type": "code",
   "execution_count": 57,
   "id": "efe433f0-ddeb-4837-bbfc-bcd067be0dc5",
   "metadata": {},
   "outputs": [
    {
     "name": "stdout",
     "output_type": "stream",
     "text": [
      "Она сказала, что ее зовут Рейко.\n",
      "Рейко состоит из 5 символов.\n"
     ]
    }
   ],
   "source": [
    "# Вы также можете форматировать, используя f-строки (в Python 3.6+)\n",
    "name = \"Рейко\"\n",
    "print(f\"Она сказала, что ее зовут {name}.\")  # => \"Она сказала, что ее зовут Рейко\"\n",
    "# Вы можете поместить любой оператор Python в фигурные скобки, и он будет выведен в строке.\n",
    "print(f\"{name} состоит из {len(name)} символов.\")  # => \"Рэйко состоит из 5 символов.\""
   ]
  },
  {
   "cell_type": "code",
   "execution_count": 58,
   "id": "1e24292e-56e3-4351-9b47-fe85796a5873",
   "metadata": {},
   "outputs": [
    {
     "name": "stdout",
     "output_type": "stream",
     "text": [
      "None\n"
     ]
    }
   ],
   "source": [
    "# None является объектом\n",
    "print(None)  # => None"
   ]
  },
  {
   "cell_type": "code",
   "execution_count": 62,
   "id": "8948c006-80cb-4f94-9d27-b469b0a3bbb2",
   "metadata": {},
   "outputs": [
    {
     "name": "stdout",
     "output_type": "stream",
     "text": [
      "False\n",
      "True\n"
     ]
    }
   ],
   "source": [
    "# Не используйте оператор равенства \"==\" для сравнения\n",
    "# объектов с None. Используйте для этого \"is\"\n",
    "print(\"etc\" == None)  # => False\n",
    "print(None is None)   # => True"
   ]
  },
  {
   "cell_type": "code",
   "execution_count": 63,
   "id": "1ebbd229-2c54-4fb6-9879-bd8793a92c1c",
   "metadata": {},
   "outputs": [
    {
     "data": {
      "text/plain": [
       "False"
      ]
     },
     "execution_count": 63,
     "metadata": {},
     "output_type": "execute_result"
    }
   ],
   "source": [
    "# None, 0 и пустые строки/списки/словари/кортежи приводятся к False.\n",
    "# Все остальные значения равны True\n",
    "bool(0)   # => False\n",
    "bool(\"\")  # => False\n",
    "bool([])  # => False\n",
    "bool({})  # => False\n",
    "bool(())  # => False"
   ]
  },
  {
   "cell_type": "markdown",
   "id": "f5d4a591-08b5-48ab-8a14-63883efdf6f1",
   "metadata": {},
   "source": [
    "## 2. Переменные и Коллекции"
   ]
  },
  {
   "cell_type": "code",
   "execution_count": 64,
   "id": "db033b47-0b62-497d-836e-7647cfa19021",
   "metadata": {},
   "outputs": [
    {
     "name": "stdout",
     "output_type": "stream",
     "text": [
      "Я Python. Приятно познакомиться!\n"
     ]
    }
   ],
   "source": [
    "# В Python есть функция Print\n",
    "print(\"Я Python. Приятно познакомиться!\")  # => Я Python. Приятно познакомиться!"
   ]
  },
  {
   "cell_type": "code",
   "execution_count": 65,
   "id": "613abc4e-7546-4cec-9670-81f6e099969d",
   "metadata": {},
   "outputs": [
    {
     "name": "stdout",
     "output_type": "stream",
     "text": [
      "Привет мир!"
     ]
    }
   ],
   "source": [
    "# По умолчанию, функция print() также выводит новую строку в конце.\n",
    "# Используйте необязательный аргумент end, чтобы изменить конец последней строки.\n",
    "print(\"Привет мир\", end=\"!\")  # => Привет мир!"
   ]
  },
  {
   "cell_type": "code",
   "execution_count": 66,
   "id": "1dd91978-d5d6-4e59-9eb0-dc1b43c4ae7a",
   "metadata": {},
   "outputs": [
    {
     "name": "stdin",
     "output_type": "stream",
     "text": [
      "Введите данные:  Aboba\n"
     ]
    },
    {
     "name": "stdout",
     "output_type": "stream",
     "text": [
      "Aboba\n"
     ]
    }
   ],
   "source": [
    "# Простой способ получить входные данные из консоли\n",
    "input_string_var = input(\"Введите данные: \")  # Возвращает данные в виде строки\n",
    "# Примечание: в более ранних версиях Python метод input() назывался raw_input()\n",
    "print(input_string_var)"
   ]
  },
  {
   "cell_type": "code",
   "execution_count": 67,
   "id": "038a1f76-bed8-4ae5-945b-a4b706481eff",
   "metadata": {},
   "outputs": [
    {
     "data": {
      "text/plain": [
       "5"
      ]
     },
     "execution_count": 67,
     "metadata": {},
     "output_type": "execute_result"
    }
   ],
   "source": [
    "# Объявлять переменные перед инициализацией не нужно.\n",
    "# По соглашению используется нижний_регистр_с_подчёркиваниями\n",
    "some_var = 5\n",
    "some_var  # => 5"
   ]
  },
  {
   "cell_type": "code",
   "execution_count": 68,
   "id": "145945a9-471c-4973-8d01-026b9c19ab90",
   "metadata": {},
   "outputs": [
    {
     "ename": "NameError",
     "evalue": "name 'some_unknown_var' is not defined",
     "output_type": "error",
     "traceback": [
      "\u001b[1;31m---------------------------------------------------------------------------\u001b[0m",
      "\u001b[1;31mNameError\u001b[0m                                 Traceback (most recent call last)",
      "Cell \u001b[1;32mIn[68], line 3\u001b[0m\n\u001b[0;32m      1\u001b[0m \u001b[38;5;66;03m# При попытке доступа к неинициализированной переменной выбрасывается исключение.\u001b[39;00m\n\u001b[0;32m      2\u001b[0m \u001b[38;5;66;03m# Об исключениях см. раздел \"Поток управления и итерируемые объекты\".\u001b[39;00m\n\u001b[1;32m----> 3\u001b[0m some_unknown_var\n",
      "\u001b[1;31mNameError\u001b[0m: name 'some_unknown_var' is not defined"
     ]
    }
   ],
   "source": [
    "# При попытке доступа к неинициализированной переменной выбрасывается исключение.\n",
    "# Об исключениях см. раздел \"Поток управления и итерируемые объекты\".\n",
    "some_unknown_var  # Выбрасывает ошибку NameError"
   ]
  },
  {
   "cell_type": "code",
   "execution_count": 69,
   "id": "78355d44-555b-4d23-adbb-833a6246489d",
   "metadata": {},
   "outputs": [
    {
     "data": {
      "text/plain": [
       "'нет!'"
      ]
     },
     "execution_count": 69,
     "metadata": {},
     "output_type": "execute_result"
    }
   ],
   "source": [
    "# if можно использовать как выражение\n",
    "# Эквивалент тернарного оператора '?:' в C\n",
    "\"да!\" if 0 > 1 else \"нет!\"  # => \"нет!\""
   ]
  },
  {
   "cell_type": "code",
   "execution_count": 104,
   "id": "669ae489-e30d-4a34-9ed1-7eae41268468",
   "metadata": {},
   "outputs": [],
   "source": [
    "# Списки хранят последовательности\n",
    "li = []\n",
    "# Можно сразу начать с заполненного списка\n",
    "other_li = [4, 5, 6]"
   ]
  },
  {
   "cell_type": "code",
   "execution_count": 105,
   "id": "d6009fe4-a3b9-4ee9-9796-f0716213dbcd",
   "metadata": {},
   "outputs": [],
   "source": [
    "# Объекты добавляются в конец списка методом append()\n",
    "li.append(1)  # [1]\n",
    "li.append(2)  # [1, 2]\n",
    "li.append(4)  # [1, 2, 4]\n",
    "li.append(3)  # [1, 2, 4, 3]\n",
    "# И удаляются с конца методом pop()\n",
    "li.pop()      # => возвращает 3 и li становится равен [1, 2, 4]\n",
    "# Положим элемент обратно\n",
    "li.append(3)  # [1, 2, 4, 3]."
   ]
  },
  {
   "cell_type": "code",
   "execution_count": 106,
   "id": "4b1495c3-edbd-48be-b343-155ff601eebb",
   "metadata": {},
   "outputs": [
    {
     "data": {
      "text/plain": [
       "1"
      ]
     },
     "execution_count": 106,
     "metadata": {},
     "output_type": "execute_result"
    }
   ],
   "source": [
    "# Обращайтесь со списком, как с обычным массивом\n",
    "li[0]  # => 1"
   ]
  },
  {
   "cell_type": "code",
   "execution_count": 107,
   "id": "66902989-84ca-4b7d-9fc7-d466e298bd52",
   "metadata": {},
   "outputs": [
    {
     "data": {
      "text/plain": [
       "3"
      ]
     },
     "execution_count": 107,
     "metadata": {},
     "output_type": "execute_result"
    }
   ],
   "source": [
    "# Обратимся к последнему элементу\n",
    "li[-1]  # => 3"
   ]
  },
  {
   "cell_type": "code",
   "execution_count": 108,
   "id": "10efb8dd-a6b8-4cff-8ce9-28023fb1ff85",
   "metadata": {},
   "outputs": [
    {
     "ename": "IndexError",
     "evalue": "list index out of range",
     "output_type": "error",
     "traceback": [
      "\u001b[1;31m---------------------------------------------------------------------------\u001b[0m",
      "\u001b[1;31mIndexError\u001b[0m                                Traceback (most recent call last)",
      "Cell \u001b[1;32mIn[108], line 2\u001b[0m\n\u001b[0;32m      1\u001b[0m \u001b[38;5;66;03m# Попытка выйти за границы массива приведёт к ошибке индекса\u001b[39;00m\n\u001b[1;32m----> 2\u001b[0m li[\u001b[38;5;241m4\u001b[39m]\n",
      "\u001b[1;31mIndexError\u001b[0m: list index out of range"
     ]
    }
   ],
   "source": [
    "# Попытка выйти за границы массива приведёт к ошибке индекса\n",
    "li[4]  # Выбрасывает ошибку IndexError"
   ]
  },
  {
   "cell_type": "code",
   "execution_count": 109,
   "id": "33356cc5-50f9-4ee5-98d5-68971273c9d4",
   "metadata": {},
   "outputs": [
    {
     "name": "stdout",
     "output_type": "stream",
     "text": [
      "[2, 4]\n",
      "[4, 3]\n",
      "[1, 2, 4]\n",
      "[1, 4]\n",
      "[3, 4, 2, 1]\n"
     ]
    }
   ],
   "source": [
    "# Можно обращаться к диапазону, используя так называемые срезы\n",
    "# (Для тех, кто любит математику, это называется замкнуто-открытый интервал).\n",
    "print(li[1:3])   # Вернуть список из индекса с 1 по 3 => [2, 4]\n",
    "print(li[2:])    # Вернуть список, начиная с индекса 2 => [4, 3]\n",
    "print(li[:3])    # Вернуть список с начала до индекса 3  => [1, 2, 4]\n",
    "print(li[::2])   # Вернуть список, выбирая каждую вторую запись => [1, 4]\n",
    "print(li[::-1])  # Вернуть список в обратном порядке => [3, 4, 2, 1]\n",
    "# Используйте сочетания всего вышеназванного для выделения более сложных срезов\n",
    "# li[начало:конец:шаг]"
   ]
  },
  {
   "cell_type": "code",
   "execution_count": 110,
   "id": "d1668ad9-2f78-4908-b552-853d87be30ef",
   "metadata": {},
   "outputs": [
    {
     "name": "stdout",
     "output_type": "stream",
     "text": [
      "False\n"
     ]
    }
   ],
   "source": [
    "# Сделать однослойную глубокую копию, используя срезы\n",
    "li2 = li[:]  # => li2 = [1, 2, 4, 3], но (li2 is li) вернет False.\n",
    "print(li2 is li)"
   ]
  },
  {
   "cell_type": "code",
   "execution_count": 111,
   "id": "fdec9619-af39-4bee-b19f-2c58ed965a86",
   "metadata": {},
   "outputs": [],
   "source": [
    "# Удаляем произвольные элементы из списка оператором del\n",
    "del li[2]  # [1, 2, 3]"
   ]
  },
  {
   "cell_type": "code",
   "execution_count": 112,
   "id": "5b9e314e-28f9-49f4-9c3e-c2c21b5962c6",
   "metadata": {},
   "outputs": [
    {
     "ename": "ValueError",
     "evalue": "list.remove(x): x not in list",
     "output_type": "error",
     "traceback": [
      "\u001b[1;31m---------------------------------------------------------------------------\u001b[0m",
      "\u001b[1;31mValueError\u001b[0m                                Traceback (most recent call last)",
      "Cell \u001b[1;32mIn[112], line 3\u001b[0m\n\u001b[0;32m      1\u001b[0m \u001b[38;5;66;03m# Удалить первое вхождение значения\u001b[39;00m\n\u001b[0;32m      2\u001b[0m li\u001b[38;5;241m.\u001b[39mremove(\u001b[38;5;241m2\u001b[39m)  \u001b[38;5;66;03m# [1, 3]\u001b[39;00m\n\u001b[1;32m----> 3\u001b[0m li\u001b[38;5;241m.\u001b[39mremove(\u001b[38;5;241m2\u001b[39m)\n",
      "\u001b[1;31mValueError\u001b[0m: list.remove(x): x not in list"
     ]
    }
   ],
   "source": [
    "# Удалить первое вхождение значения\n",
    "li.remove(2)  # [1, 3]\n",
    "li.remove(2)  # Выбрасывает ошибку ValueError поскольку 2 нет в списке"
   ]
  },
  {
   "cell_type": "code",
   "execution_count": 113,
   "id": "ae1e7d9c-56c9-4317-bebf-bbda91fbe4d4",
   "metadata": {},
   "outputs": [
    {
     "name": "stdout",
     "output_type": "stream",
     "text": [
      "[1, 2, 3]\n"
     ]
    }
   ],
   "source": [
    "# Вставить элемент по определенному индексу\n",
    "li.insert(1, 2)  # [1, 2, 3]\n",
    "print(li)"
   ]
  },
  {
   "cell_type": "code",
   "execution_count": 114,
   "id": "a5b956d3-bdf4-4b80-a550-f8127f4fc3cd",
   "metadata": {},
   "outputs": [
    {
     "name": "stdout",
     "output_type": "stream",
     "text": [
      "1\n"
     ]
    },
    {
     "ename": "ValueError",
     "evalue": "4 is not in list",
     "output_type": "error",
     "traceback": [
      "\u001b[1;31m---------------------------------------------------------------------------\u001b[0m",
      "\u001b[1;31mValueError\u001b[0m                                Traceback (most recent call last)",
      "Cell \u001b[1;32mIn[114], line 3\u001b[0m\n\u001b[0;32m      1\u001b[0m \u001b[38;5;66;03m# Получить индекс первого найденного элемента, соответствующего аргументу\u001b[39;00m\n\u001b[0;32m      2\u001b[0m \u001b[38;5;28mprint\u001b[39m(li\u001b[38;5;241m.\u001b[39mindex(\u001b[38;5;241m2\u001b[39m))  \u001b[38;5;66;03m# => 1\u001b[39;00m\n\u001b[1;32m----> 3\u001b[0m \u001b[38;5;28mprint\u001b[39m(li\u001b[38;5;241m.\u001b[39mindex(\u001b[38;5;241m4\u001b[39m))\n",
      "\u001b[1;31mValueError\u001b[0m: 4 is not in list"
     ]
    }
   ],
   "source": [
    "# Получить индекс первого найденного элемента, соответствующего аргументу\n",
    "print(li.index(2))  # => 1\n",
    "print(li.index(4))  # Выбрасывает ошибку ValueError поскольку 4 нет в списке"
   ]
  },
  {
   "cell_type": "code",
   "execution_count": 115,
   "id": "4639b757-353e-4730-9ded-19aeb6b7cfec",
   "metadata": {},
   "outputs": [
    {
     "name": "stdout",
     "output_type": "stream",
     "text": [
      "[1, 2, 3, 4, 5, 6]\n"
     ]
    }
   ],
   "source": [
    "# Вы можете складывать, или, как ещё говорят, конкатенировать списки\n",
    "# Обратите внимание: значения li и other_li при этом не изменились.\n",
    "print(li + other_li)  # => [1, 2, 3, 4, 5, 6]"
   ]
  },
  {
   "cell_type": "code",
   "execution_count": 116,
   "id": "da246405-da9d-4a3a-ab15-68f4b4dc8e24",
   "metadata": {},
   "outputs": [
    {
     "name": "stdout",
     "output_type": "stream",
     "text": [
      "[1, 2, 3, 4, 5, 6]\n"
     ]
    }
   ],
   "source": [
    "# Объединять списки можно методом extend()\n",
    "li.extend(other_li)  # Теперь li содержит [1, 2, 3, 4, 5, 6]\n",
    "print(li)"
   ]
  },
  {
   "cell_type": "code",
   "execution_count": 117,
   "id": "6f86631a-2bc4-4aed-895e-d9a43e3139af",
   "metadata": {},
   "outputs": [
    {
     "name": "stdout",
     "output_type": "stream",
     "text": [
      "True\n"
     ]
    }
   ],
   "source": [
    "# Проверить элемент на наличие в списке можно оператором in\n",
    "print(1 in li)  # => True"
   ]
  },
  {
   "cell_type": "code",
   "execution_count": 118,
   "id": "3aea7cd6-5f17-4650-875b-6f304a1725f3",
   "metadata": {},
   "outputs": [
    {
     "data": {
      "text/plain": [
       "6"
      ]
     },
     "execution_count": 118,
     "metadata": {},
     "output_type": "execute_result"
    }
   ],
   "source": [
    "# Длина списка вычисляется функцией len\n",
    "len(li)  # => 6"
   ]
  },
  {
   "cell_type": "code",
   "execution_count": 119,
   "id": "3be37f27-78c9-4498-b36c-f0cc3817030d",
   "metadata": {},
   "outputs": [
    {
     "name": "stdout",
     "output_type": "stream",
     "text": [
      "1\n"
     ]
    },
    {
     "ename": "TypeError",
     "evalue": "'tuple' object does not support item assignment",
     "output_type": "error",
     "traceback": [
      "\u001b[1;31m---------------------------------------------------------------------------\u001b[0m",
      "\u001b[1;31mTypeError\u001b[0m                                 Traceback (most recent call last)",
      "Cell \u001b[1;32mIn[119], line 4\u001b[0m\n\u001b[0;32m      2\u001b[0m tup \u001b[38;5;241m=\u001b[39m (\u001b[38;5;241m1\u001b[39m, \u001b[38;5;241m2\u001b[39m, \u001b[38;5;241m3\u001b[39m)\n\u001b[0;32m      3\u001b[0m \u001b[38;5;28mprint\u001b[39m(tup[\u001b[38;5;241m0\u001b[39m])  \u001b[38;5;66;03m# => 1\u001b[39;00m\n\u001b[1;32m----> 4\u001b[0m tup[\u001b[38;5;241m0\u001b[39m] \u001b[38;5;241m=\u001b[39m \u001b[38;5;241m3\u001b[39m\n",
      "\u001b[1;31mTypeError\u001b[0m: 'tuple' object does not support item assignment"
     ]
    }
   ],
   "source": [
    "# Кортежи похожи на списки, только неизменяемые\n",
    "tup = (1, 2, 3)\n",
    "print(tup[0])  # => 1\n",
    "tup[0] = 3  # Выбрасывает ошибку TypeError"
   ]
  },
  {
   "cell_type": "code",
   "execution_count": 120,
   "id": "740c573f-5387-47c4-b2c5-7034f30dab8c",
   "metadata": {},
   "outputs": [
    {
     "name": "stdout",
     "output_type": "stream",
     "text": [
      "<class 'int'>\n",
      "<class 'tuple'>\n",
      "<class 'tuple'>\n"
     ]
    }
   ],
   "source": [
    "# Обратите внимание, что кортеж длины 1 должен иметь запятую после последнего элемента, но кортежи другой длины, даже 0, не должны.\n",
    "print(type((1)))   # => <class 'int'>\n",
    "print(type((1,)))  # => <class 'tuple'>\n",
    "print(type(()))    # => <class 'tuple'>"
   ]
  },
  {
   "cell_type": "code",
   "execution_count": 121,
   "id": "b9569ee6-693b-4335-8fe0-5585bc9745d0",
   "metadata": {},
   "outputs": [
    {
     "name": "stdout",
     "output_type": "stream",
     "text": [
      "3\n",
      "(1, 2, 3, 4, 5, 6)\n",
      "(1, 2)\n",
      "True\n"
     ]
    }
   ],
   "source": [
    "# Всё то же самое можно делать и с кортежами\n",
    "print(len(tup))         # => 3\n",
    "print(tup + (4, 5, 6))  # => (1, 2, 3, 4, 5, 6)\n",
    "print(tup[:2])          # => (1, 2)\n",
    "print(2 in tup)         # => True"
   ]
  },
  {
   "cell_type": "code",
   "execution_count": 122,
   "id": "25f2e67c-b36e-474c-ab04-9541839acde9",
   "metadata": {},
   "outputs": [
    {
     "name": "stdout",
     "output_type": "stream",
     "text": [
      "1 2 3\n",
      "1 [2, 3] 4\n",
      "4 5 6\n",
      "4 5\n"
     ]
    }
   ],
   "source": [
    "# Вы можете распаковывать кортежи (или списки) в переменные\n",
    "a, b, c = (1, 2, 3)  # a == 1, b == 2 и c == 3\n",
    "print(a, b, c)\n",
    "# Вы также можете сделать расширенную распаковку\n",
    "a, *b, c = (1, 2, 3, 4)  # a теперь 1, b теперь [2, 3] и c теперь 4\n",
    "print(a, b, c)\n",
    "# Кортежи создаются по умолчанию, если опущены скобки\n",
    "d, e, f = 4, 5, 6  # кортеж 4, 5, 6 распаковывается в переменные d, e и f\n",
    "print(d, e, f)\n",
    "# соответственно, d = 4, e = 5 и f = 6\n",
    "# Обратите внимание, как легко поменять местами значения двух переменных\n",
    "e, d = d, e  # теперь d == 5, а e == 4\n",
    "print(e, d)"
   ]
  },
  {
   "cell_type": "code",
   "execution_count": 123,
   "id": "1a1b65b1-5940-49ae-9456-3bee58863719",
   "metadata": {},
   "outputs": [],
   "source": [
    "# Словари содержат ассоциативные массивы\n",
    "empty_dict = {}\n",
    "# Вот так описывается предзаполненный словарь\n",
    "filled_dict = {\"one\": 1, \"two\": 2, \"three\": 3}"
   ]
  },
  {
   "cell_type": "code",
   "execution_count": 124,
   "id": "89be28c4-dda3-4685-be47-20925760b4a1",
   "metadata": {},
   "outputs": [
    {
     "ename": "TypeError",
     "evalue": "unhashable type: 'list'",
     "output_type": "error",
     "traceback": [
      "\u001b[1;31m---------------------------------------------------------------------------\u001b[0m",
      "\u001b[1;31mTypeError\u001b[0m                                 Traceback (most recent call last)",
      "Cell \u001b[1;32mIn[124], line 5\u001b[0m\n\u001b[0;32m      1\u001b[0m \u001b[38;5;66;03m# Обратите внимание, что ключи для словарей должны быть неизменяемыми типами. Это\u001b[39;00m\n\u001b[0;32m      2\u001b[0m \u001b[38;5;66;03m# сделано для того, чтобы ключ мог быть преобразован в хеш для быстрого поиска.\u001b[39;00m\n\u001b[0;32m      3\u001b[0m \u001b[38;5;66;03m# Неизменяемые типы включают целые числа, числа с плавающей запятой, строки, \u001b[39;00m\n\u001b[0;32m      4\u001b[0m \u001b[38;5;66;03m# кортежи.\u001b[39;00m\n\u001b[1;32m----> 5\u001b[0m invalid_dict \u001b[38;5;241m=\u001b[39m {[\u001b[38;5;241m1\u001b[39m,\u001b[38;5;241m2\u001b[39m,\u001b[38;5;241m3\u001b[39m]: \u001b[38;5;124m\"\u001b[39m\u001b[38;5;124m123\u001b[39m\u001b[38;5;124m\"\u001b[39m}  \u001b[38;5;66;03m# => Выбрасывает ошибку TypeError: unhashable type: 'list'\u001b[39;00m\n\u001b[0;32m      6\u001b[0m valid_dict \u001b[38;5;241m=\u001b[39m {(\u001b[38;5;241m1\u001b[39m,\u001b[38;5;241m2\u001b[39m,\u001b[38;5;241m3\u001b[39m):[\u001b[38;5;241m1\u001b[39m,\u001b[38;5;241m2\u001b[39m,\u001b[38;5;241m3\u001b[39m]}\n",
      "\u001b[1;31mTypeError\u001b[0m: unhashable type: 'list'"
     ]
    }
   ],
   "source": [
    "# Обратите внимание, что ключи для словарей должны быть неизменяемыми типами. Это\n",
    "# сделано для того, чтобы ключ мог быть преобразован в хеш для быстрого поиска.\n",
    "# Неизменяемые типы включают целые числа, числа с плавающей запятой, строки, \n",
    "# кортежи.\n",
    "invalid_dict = {[1,2,3]: \"123\"}  # => Выбрасывает ошибку TypeError: unhashable type: 'list'\n",
    "valid_dict = {(1,2,3):[1,2,3]}   # Однако значения могут быть любого типа."
   ]
  },
  {
   "cell_type": "code",
   "execution_count": 125,
   "id": "f35636fa-dec6-40cd-a3a9-b3ecc734fd2c",
   "metadata": {},
   "outputs": [
    {
     "data": {
      "text/plain": [
       "1"
      ]
     },
     "execution_count": 125,
     "metadata": {},
     "output_type": "execute_result"
    }
   ],
   "source": [
    "# Поиск значений с помощью []\n",
    "filled_dict[\"one\"]  # => 1"
   ]
  },
  {
   "cell_type": "code",
   "execution_count": 126,
   "id": "121d101b-0d90-4211-8a12-90cddcf696a1",
   "metadata": {},
   "outputs": [
    {
     "data": {
      "text/plain": [
       "['one', 'two', 'three']"
      ]
     },
     "execution_count": 126,
     "metadata": {},
     "output_type": "execute_result"
    }
   ],
   "source": [
    "# Все ключи в виде списка получаются с помощью метода keys(). Его вызов нужно\n",
    "# обернуть в list(), так как обратно мы получаем итерируемый объект, о которых\n",
    "# поговорим позднее. Примечание - для Python версии <3.7, порядок словарных\n",
    "# ключей не гарантируется. Ваши результаты могут не точно соответствовать\n",
    "# приведенному ниже примеру. Однако, начиная с Python 3.7 элементы в словаре\n",
    "# сохраняют порядок, в котором они вставляются в словарь.\n",
    "list(filled_dict.keys())  # => [\"three\", \"two\", \"one\"] в Python <3.7\n",
    "list(filled_dict.keys())  # => [\"one\", \"two\", \"three\"] в Python 3.7+"
   ]
  },
  {
   "cell_type": "code",
   "execution_count": 127,
   "id": "9b5d0e49-0cd1-40ea-8312-60da527836ef",
   "metadata": {},
   "outputs": [
    {
     "data": {
      "text/plain": [
       "dict_keys(['one', 'two', 'three'])"
      ]
     },
     "execution_count": 127,
     "metadata": {},
     "output_type": "execute_result"
    }
   ],
   "source": [
    "filled_dict.keys()"
   ]
  },
  {
   "cell_type": "code",
   "execution_count": 128,
   "id": "97f95f4c-57da-4db1-b228-e2474e5bd756",
   "metadata": {},
   "outputs": [
    {
     "data": {
      "text/plain": [
       "[1, 2, 3]"
      ]
     },
     "execution_count": 128,
     "metadata": {},
     "output_type": "execute_result"
    }
   ],
   "source": [
    "# Все значения в виде списка можно получить с помощью values().\n",
    "# И снова нам нужно обернуть вызов в list(), чтобы превратить\n",
    "# итерируемый объект в список.\n",
    "# То же самое замечание насчёт порядка ключей справедливо и здесь\n",
    "list(filled_dict.values())  # => [3, 2, 1] в Python <3.7\n",
    "list(filled_dict.values())  # => [1, 2, 3] в Python 3.7+"
   ]
  },
  {
   "cell_type": "code",
   "execution_count": 129,
   "id": "39000e7e-c386-4a9e-976b-08c55e8cda5d",
   "metadata": {},
   "outputs": [
    {
     "data": {
      "text/plain": [
       "dict_values([1, 2, 3])"
      ]
     },
     "execution_count": 129,
     "metadata": {},
     "output_type": "execute_result"
    }
   ],
   "source": [
    "filled_dict.values()"
   ]
  },
  {
   "cell_type": "code",
   "execution_count": 130,
   "id": "a9224db8-ab04-4fba-9d3f-c84f050f4944",
   "metadata": {},
   "outputs": [
    {
     "name": "stdout",
     "output_type": "stream",
     "text": [
      "True\n",
      "False\n"
     ]
    }
   ],
   "source": [
    "# При помощи ключевого слова in можно проверять наличие ключей в словаре\n",
    "print(\"one\" in filled_dict)  # => True\n",
    "print(1 in filled_dict)      # => False"
   ]
  },
  {
   "cell_type": "code",
   "execution_count": 131,
   "id": "3348ccb1-5a5c-489d-8d7e-f86a08de581c",
   "metadata": {},
   "outputs": [
    {
     "ename": "KeyError",
     "evalue": "'four'",
     "output_type": "error",
     "traceback": [
      "\u001b[1;31m---------------------------------------------------------------------------\u001b[0m",
      "\u001b[1;31mKeyError\u001b[0m                                  Traceback (most recent call last)",
      "Cell \u001b[1;32mIn[131], line 2\u001b[0m\n\u001b[0;32m      1\u001b[0m \u001b[38;5;66;03m# Попытка получить значение по несуществующему ключу выбросит ошибку KeyError\u001b[39;00m\n\u001b[1;32m----> 2\u001b[0m filled_dict[\u001b[38;5;124m\"\u001b[39m\u001b[38;5;124mfour\u001b[39m\u001b[38;5;124m\"\u001b[39m]\n",
      "\u001b[1;31mKeyError\u001b[0m: 'four'"
     ]
    }
   ],
   "source": [
    "# Попытка получить значение по несуществующему ключу выбросит ошибку KeyError\n",
    "filled_dict[\"four\"]  # Выбрасывает ошибку KeyError"
   ]
  },
  {
   "cell_type": "code",
   "execution_count": 132,
   "id": "ff691b4b-468b-46ba-a25e-5f53f78d4e96",
   "metadata": {},
   "outputs": [
    {
     "name": "stdout",
     "output_type": "stream",
     "text": [
      "1\n",
      "None\n",
      "1\n",
      "4\n"
     ]
    }
   ],
   "source": [
    "# Чтобы избежать этого, используйте метод get()\n",
    "print(filled_dict.get(\"one\"))      # => 1\n",
    "print(filled_dict.get(\"four\"))    # => None\n",
    "# Метод get поддерживает аргумент по умолчанию, когда значение отсутствует\n",
    "print(filled_dict.get(\"one\", 4))   # => 1\n",
    "print(filled_dict.get(\"four\", 4))  # => 4"
   ]
  },
  {
   "cell_type": "code",
   "execution_count": 134,
   "id": "36c15b5d-e258-4719-8d28-d2ad64fb0be8",
   "metadata": {},
   "outputs": [
    {
     "name": "stdout",
     "output_type": "stream",
     "text": [
      "5\n",
      "5\n"
     ]
    }
   ],
   "source": [
    "# Метод setdefault() вставляет пару ключ-значение, только если такого ключа нет\n",
    "print(filled_dict.setdefault(\"five\", 5))  # filled_dict[\"five\"] возвращает 5\n",
    "print(filled_dict.setdefault(\"five\", 6))  # filled_dict[\"five\"] по-прежнему возвращает 5"
   ]
  },
  {
   "cell_type": "code",
   "execution_count": 137,
   "id": "5c9cb608-fd6d-4aec-a649-dd04974e6f77",
   "metadata": {},
   "outputs": [
    {
     "name": "stdout",
     "output_type": "stream",
     "text": [
      "{'one': 1, 'two': 2, 'three': 3, 'five': 5, 'four': 4}\n"
     ]
    }
   ],
   "source": [
    "# Добавление элементов в словарь\n",
    "filled_dict.update({\"four\":4})  # => {\"one\": 1, \"two\": 2, \"three\": 3, \"four\": 4}\n",
    "filled_dict[\"four\"] = 4         # Другой способ добавления элементов\n",
    "print(filled_dict)"
   ]
  },
  {
   "cell_type": "code",
   "execution_count": 138,
   "id": "3d5a45c9-8c60-4aad-921f-7ab0faf207f6",
   "metadata": {},
   "outputs": [],
   "source": [
    "# Удаляйте ключи из словаря с помощью ключевого слова del\n",
    "del filled_dict[\"one\"]  # Удаляет ключ \"one\" из словаря"
   ]
  },
  {
   "cell_type": "code",
   "execution_count": 139,
   "id": "c574694f-212d-465a-9f80-8e83bd70b4fc",
   "metadata": {},
   "outputs": [
    {
     "name": "stdout",
     "output_type": "stream",
     "text": [
      "{'a': 1, 'b': 2}\n",
      "{'a': 2}\n"
     ]
    }
   ],
   "source": [
    "# В Python 3.5+ вы также можете использовать дополнительные параметры распаковки\n",
    "print({'a': 1, **{'b': 2}})  # => {'a': 1, 'b': 2}\n",
    "print({'a': 1, **{'a': 2}})  # => {'a': 2}"
   ]
  },
  {
   "cell_type": "code",
   "execution_count": 140,
   "id": "c8dad6f7-21e9-4ade-96b6-7125aaa5bd7d",
   "metadata": {},
   "outputs": [
    {
     "name": "stdout",
     "output_type": "stream",
     "text": [
      "{1, 2, 3, 4}\n"
     ]
    }
   ],
   "source": [
    "# Множества содержат... ну, в общем, множества\n",
    "empty_set = set()\n",
    "# Инициализация множества набором значений.\n",
    "# Да, оно выглядит примерно как словарь. Ну извините, так уж вышло.\n",
    "filled_set = {1, 2, 2, 3, 4}  # => {1, 2, 3, 4}\n",
    "print(filled_set)"
   ]
  },
  {
   "cell_type": "code",
   "execution_count": 141,
   "id": "ddac78b1-c64e-466a-bbaa-43aa5c72b76b",
   "metadata": {},
   "outputs": [
    {
     "ename": "TypeError",
     "evalue": "unhashable type: 'list'",
     "output_type": "error",
     "traceback": [
      "\u001b[1;31m---------------------------------------------------------------------------\u001b[0m",
      "\u001b[1;31mTypeError\u001b[0m                                 Traceback (most recent call last)",
      "Cell \u001b[1;32mIn[141], line 2\u001b[0m\n\u001b[0;32m      1\u001b[0m \u001b[38;5;66;03m# Как и ключи словаря, элементы множества должны быть неизменяемыми.\u001b[39;00m\n\u001b[1;32m----> 2\u001b[0m invalid_set \u001b[38;5;241m=\u001b[39m {[\u001b[38;5;241m1\u001b[39m], \u001b[38;5;241m1\u001b[39m}  \u001b[38;5;66;03m# => Выбрасывает ошибку TypeError: unhashable type: 'list'\u001b[39;00m\n\u001b[0;32m      3\u001b[0m valid_set \u001b[38;5;241m=\u001b[39m {(\u001b[38;5;241m1\u001b[39m,), \u001b[38;5;241m1\u001b[39m}\n",
      "\u001b[1;31mTypeError\u001b[0m: unhashable type: 'list'"
     ]
    }
   ],
   "source": [
    "# Как и ключи словаря, элементы множества должны быть неизменяемыми.\n",
    "invalid_set = {[1], 1}  # => Выбрасывает ошибку TypeError: unhashable type: 'list'\n",
    "valid_set = {(1,), 1}"
   ]
  },
  {
   "cell_type": "code",
   "execution_count": 143,
   "id": "848a8c87-75cd-46c3-92e9-839f929ee2f4",
   "metadata": {},
   "outputs": [
    {
     "name": "stdout",
     "output_type": "stream",
     "text": [
      "{1, 2, 3, 4, 5}\n"
     ]
    }
   ],
   "source": [
    "some_set = {1, 2, 3, 4}\n",
    "# Множеству можно назначать новую переменную\n",
    "filled_set = some_set\n",
    "filled_set.add(5)  # {1, 2, 3, 4, 5}\n",
    "# В множествах нет повторяющихся элементов\n",
    "filled_set.add(5)  # {1, 2, 3, 4, 5}\n",
    "print(filled_set)"
   ]
  },
  {
   "cell_type": "code",
   "execution_count": 144,
   "id": "9eaf8ec9-1faa-4848-807c-369ac0b07b20",
   "metadata": {},
   "outputs": [
    {
     "name": "stdout",
     "output_type": "stream",
     "text": [
      "{3, 4, 5}\n"
     ]
    }
   ],
   "source": [
    "# Пересечение множеств: &\n",
    "other_set = {3, 4, 5, 6}\n",
    "print(filled_set & other_set)  # => {3, 4, 5}"
   ]
  },
  {
   "cell_type": "code",
   "execution_count": 145,
   "id": "158406c4-88d3-4b26-ab70-34ba39f75e86",
   "metadata": {},
   "outputs": [
    {
     "name": "stdout",
     "output_type": "stream",
     "text": [
      "{1, 2, 3, 4, 5, 6}\n"
     ]
    }
   ],
   "source": [
    "# Объединение множеств: |\n",
    "print(filled_set | other_set)  # => {1, 2, 3, 4, 5, 6}"
   ]
  },
  {
   "cell_type": "code",
   "execution_count": 146,
   "id": "8b769b79-1003-4e7b-9710-b32d7cf6b9fe",
   "metadata": {},
   "outputs": [
    {
     "name": "stdout",
     "output_type": "stream",
     "text": [
      "{1, 4}\n"
     ]
    }
   ],
   "source": [
    "# Разность множеств: -\n",
    "print({1, 2, 3, 4} - {2, 3, 5})  # => {1, 4}\n"
   ]
  },
  {
   "cell_type": "code",
   "execution_count": 147,
   "id": "f3aae2a0-f542-4874-8df3-dda7a7d877ca",
   "metadata": {},
   "outputs": [
    {
     "name": "stdout",
     "output_type": "stream",
     "text": [
      "{1, 4, 5}\n"
     ]
    }
   ],
   "source": [
    "# Симметричная разница: ^\n",
    "print({1, 2, 3, 4} ^ {2, 3, 5})  # => {1, 4, 5}"
   ]
  },
  {
   "cell_type": "code",
   "execution_count": 148,
   "id": "e7d433cb-c584-47bd-96ea-d135dd5f7250",
   "metadata": {},
   "outputs": [
    {
     "name": "stdout",
     "output_type": "stream",
     "text": [
      "False\n"
     ]
    }
   ],
   "source": [
    "# Проверить, является ли множество слева надмножеством множества справа\n",
    "print({1, 2} >= {1, 2, 3})  # => False"
   ]
  },
  {
   "cell_type": "code",
   "execution_count": 150,
   "id": "fca938c2-ddbd-4f53-9024-6f0caf63d115",
   "metadata": {},
   "outputs": [
    {
     "name": "stdout",
     "output_type": "stream",
     "text": [
      "True\n"
     ]
    }
   ],
   "source": [
    "# Проверить, является ли множество слева подмножеством множества справа\n",
    "print({1, 2} <= {1, 2, 3}) # => True"
   ]
  },
  {
   "cell_type": "code",
   "execution_count": 151,
   "id": "b84684b3-68e9-450d-ab49-ce0fe5825e7e",
   "metadata": {},
   "outputs": [
    {
     "name": "stdout",
     "output_type": "stream",
     "text": [
      "True\n",
      "False\n"
     ]
    }
   ],
   "source": [
    "# Проверка на наличие в множестве: in\n",
    "print(2 in filled_set)   # => True\n",
    "print(10 in filled_set)  # => False"
   ]
  },
  {
   "cell_type": "code",
   "execution_count": 152,
   "id": "129d5c25-fbcc-4684-a2dc-780112826eec",
   "metadata": {},
   "outputs": [
    {
     "name": "stdout",
     "output_type": "stream",
     "text": [
      "{1, 2, 3, 4, 5}\n",
      "False\n"
     ]
    }
   ],
   "source": [
    "# Сделать однослойную глубокую копию\n",
    "filled_set = some_set.copy()  # {1, 2, 3, 4, 5}\n",
    "print(filled_set)\n",
    "print(filled_set is some_set)        # => False"
   ]
  },
  {
   "cell_type": "markdown",
   "id": "205b6947-fdaa-4829-82ce-32a2cbcab121",
   "metadata": {},
   "source": [
    "## 3. Поток управления и итерируемые объекты"
   ]
  }
 ],
 "metadata": {
  "kernelspec": {
   "display_name": "Python 3 (ipykernel)",
   "language": "python",
   "name": "python3"
  },
  "language_info": {
   "codemirror_mode": {
    "name": "ipython",
    "version": 3
   },
   "file_extension": ".py",
   "mimetype": "text/x-python",
   "name": "python",
   "nbconvert_exporter": "python",
   "pygments_lexer": "ipython3",
   "version": "3.12.7"
  }
 },
 "nbformat": 4,
 "nbformat_minor": 5
}
